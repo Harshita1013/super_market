{
 "cells": [
  {
   "cell_type": "raw",
   "id": "9ad3d134-62ba-4a39-b4e0-0d16e007b073",
   "metadata": {},
   "source": [
    "products = {\"apple\":40, \"chips\":20, \"avacado\":115, \"cock\":40} #input dictionary"
   ]
  },
  {
   "cell_type": "code",
   "execution_count": 2,
   "id": "24423d70-de7e-42ff-965f-0502d097ab3b",
   "metadata": {},
   "outputs": [
    {
     "name": "stdout",
     "output_type": "stream",
     "text": [
      "_______________ Welcome To Wscubemart _______________\n"
     ]
    },
    {
     "name": "stdin",
     "output_type": "stream",
     "text": [
      "enter your name:  harshita\n",
      "enter phone number:  9878765\n"
     ]
    },
    {
     "name": "stdout",
     "output_type": "stream",
     "text": [
      "_______ products List _______\n",
      "        apple : 40\n",
      "        chips : 20\n",
      "        avacado : 115\n",
      "        cock : 40\n"
     ]
    },
    {
     "name": "stdin",
     "output_type": "stream",
     "text": [
      "enter product name you wish to buy:  apple\n",
      "enter quantity you wish to buy:  4\n",
      "do you wanna add more items?(yes/no)  yes\n",
      "enter product name you wish to buy:  avacado\n",
      "enter quantity you wish to buy:  7\n",
      "do you wanna add more items?(yes/no)  no\n"
     ]
    },
    {
     "name": "stdout",
     "output_type": "stream",
     "text": [
      "________________________________________\n",
      "name:  harshita\n",
      "phone:  9878765\n",
      "apple price:  40 x 4.0 = 160.0\n",
      "avacado price:  115 x 7.0 = 805.0\n",
      "________________________________________\n",
      "total amount:  965.0\n",
      "discount applied:  5.0 %\n",
      "________________________________________\n",
      "payable amount:  916.75\n",
      "________________________________________\n"
     ]
    },
    {
     "name": "stdin",
     "output_type": "stream",
     "text": [
      "next person?  paresh\n",
      "enter your name:  98654\n",
      "enter phone number:  098765\n"
     ]
    },
    {
     "name": "stdout",
     "output_type": "stream",
     "text": [
      "_______ products List _______\n",
      "        apple : 40\n",
      "        chips : 20\n",
      "        avacado : 115\n",
      "        cock : 40\n"
     ]
    },
    {
     "name": "stdin",
     "output_type": "stream",
     "text": [
      "enter product name you wish to buy:  apple\n",
      "enter quantity you wish to buy:  5\n",
      "do you wanna add more items?(yes/no)  no\n"
     ]
    },
    {
     "name": "stdout",
     "output_type": "stream",
     "text": [
      "________________________________________\n",
      "name:  98654\n",
      "phone:  098765\n",
      "apple price:  40 x 5.0 = 200.0\n",
      "________________________________________\n",
      "total amount:  200.0\n",
      "discount applied:  0 %\n",
      "________________________________________\n",
      "payable amount:  200.0\n",
      "________________________________________\n"
     ]
    },
    {
     "name": "stdin",
     "output_type": "stream",
     "text": [
      "next person?  no\n"
     ]
    }
   ],
   "source": [
    "products = {\"apple\":40, \"chips\":20, \"avacado\":115, \"cock\":40} #input dictionary\n",
    "print(\"_\"*15,\"Welcome To Wscubemart\", \"_\"*15) \n",
    "while True:\n",
    "  cart = {}\n",
    "  amount = 0\n",
    "  name = input('enter your name: ') #input name\n",
    "  phone_number = input('enter phone number: ') # input mobile number\n",
    "  discount = 0\n",
    "\n",
    "  print('_'*7, \"products List\", \"_\"*7) \n",
    "  for i,j in products.items(): # looping for product \n",
    "     print(' '*7,i, \":\",j)\n",
    "  while True: #loop for showcasing menu  and  to take user input\n",
    "      p_name = input(\"enter product name you wish to buy: \")\n",
    "      quantity = float(input(\"enter quantity you wish to buy: \"))\n",
    "      value = [] #using empty list for initialization \n",
    "      value.append(products[p_name]) # inserting user entered product name\n",
    "      value.append(quantity) #inserting user entered quantity\n",
    "      value.append(quantity *products[p_name]) #inserting amount based on product Quantity and Product Rate\n",
    "      cart[p_name] = value \n",
    "      amount += products[p_name] * quantity #calculating total amount\n",
    "      repeat = input(\"do you wanna add more items?(yes/no) \") # user input to continue\n",
    "      if repeat == \"no\":\n",
    "          break # code will be break\n",
    "#discount calculation based on different amount          \n",
    "  if amount <=500: \n",
    "      discount = 0\n",
    "  elif amount <=1000:\n",
    "    discount = 0.05\n",
    "  elif amount <=3000:\n",
    "    discount = 0.10\n",
    "  else:\n",
    "    discount=0.15\n",
    "#actual amount after discount\n",
    "  act_amount = amount - (amount*discount)\n",
    "  print(\"_\"*40)\n",
    "  print(\"name: \", name)\n",
    "  print(\"phone: \",phone_number)\n",
    "  for i,j in cart.items(): \n",
    "      print(i, \"price: \", j[0],\"x\",j[1],\"=\",j[2])\n",
    "\n",
    "  print(\"_\"*40)\n",
    "  print(\"total amount: \",amount)\n",
    "  print(\"discount applied: \", discount*100,\"%\")\n",
    "  print(\"_\"*40)\n",
    "  print(\"payable amount: \", act_amount)\n",
    "  print(\"_\"*40)\n",
    "  n_person = input(\"next person? \") #adding the next person for billing\n",
    "  if n_person == \"no\":\n",
    "      break\n",
    "\n",
    "   \n",
    "  "
   ]
  },
  {
   "cell_type": "code",
   "execution_count": null,
   "id": "9bab8055-d438-4e05-90d5-6f83bd4ffa92",
   "metadata": {},
   "outputs": [],
   "source": []
  }
 ],
 "metadata": {
  "kernelspec": {
   "display_name": "Python 3 (ipykernel)",
   "language": "python",
   "name": "python3"
  },
  "language_info": {
   "codemirror_mode": {
    "name": "ipython",
    "version": 3
   },
   "file_extension": ".py",
   "mimetype": "text/x-python",
   "name": "python",
   "nbconvert_exporter": "python",
   "pygments_lexer": "ipython3",
   "version": "3.13.1"
  }
 },
 "nbformat": 4,
 "nbformat_minor": 5
}
